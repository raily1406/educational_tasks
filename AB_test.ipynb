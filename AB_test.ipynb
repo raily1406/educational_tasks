{
 "cells": [
  {
   "cell_type": "code",
   "execution_count": 149,
   "id": "9e099297-0cac-4f90-8c29-dc93d3080721",
   "metadata": {},
   "outputs": [],
   "source": [
    "import pandahouse\n",
    "import pandas as pd\n",
    "import seaborn as sns\n",
    "from scipy import stats\n",
    "import numpy as np"
   ]
  },
  {
   "cell_type": "markdown",
   "id": "f148478e-2fff-49ce-a3ce-db19b7e84beb",
   "metadata": {},
   "source": [
    "Пришло время проанализировать результаты эксперимента, который мы провели вместе с командой дата сайентистов. Эксперимент проходил с 2025-01-03 по 2025-01-09 включительно. Для эксперимента были задействованы 2 и 1 группы. \n",
    "\n",
    "В группе 2 был использован один из новых алгоритмов рекомендации постов, группа 1 использовалась в качестве контроля. \n",
    "\n",
    "Основная гипотеза заключается в том, что новый алгоритм во 2-й группе приведет к увеличению CTR. \n",
    "\n",
    "Ваша задача — проанализировать данные А/B-теста. \n",
    "\n",
    "1) Выбрать метод анализа и сравнить CTR в двух группах (мы разбирали t-тест, Пуассоновский бутстреп, тест Манна-Уитни, t-тест на сглаженном ctr (α=5) а также t-тест и тест Манна-Уитни поверх бакетного преобразования).\n",
    "2) Сравните данные этими тестами. А еще посмотрите на распределения глазами. Почему тесты сработали именно так? \n",
    "3) Опишите потенциальную ситуацию, когда такое изменение могло произойти. Тут нет идеального ответа, подумайте.\n",
    "Напишите рекомендацию, будем ли мы раскатывать новый алгоритм на всех новых пользователей или все-таки не стоит. При выполнении задания важно обосновать и аргументировать ваш вывод."
   ]
  },
  {
   "cell_type": "markdown",
   "id": "6939170d-7d27-49ef-b745-99f6dcf1ea8a",
   "metadata": {},
   "source": [
    "Подготовим данные:"
   ]
  },
  {
   "cell_type": "code",
   "execution_count": 150,
   "id": "e181f1e4-45b2-46f7-b64e-7eabcd768d90",
   "metadata": {},
   "outputs": [],
   "source": [
    "connection = {\n",
    "    'host': 'https://clickhouse.lab.karpov.courses',\n",
    "    'password': 'dpo_python_2020',\n",
    "    'user': 'student',\n",
    "    'database': 'simulator_20241220'\n",
    "}\n",
    "\n",
    "q = \"\"\"\n",
    "SELECT exp_group, \n",
    "    user_id,\n",
    "    sum(action = 'like') as likes,\n",
    "    sum(action = 'view') as views,\n",
    "    likes/views as ctr\n",
    "FROM {db}.feed_actions \n",
    "WHERE toDate(time) between '2024-11-22' and '2024-11-28'\n",
    "    and exp_group in (1,2)\n",
    "GROUP BY exp_group, user_id\n",
    "\"\"\"\n",
    "\n",
    "df = pandahouse.read_clickhouse(q, connection=connection)"
   ]
  },
  {
   "cell_type": "code",
   "execution_count": 151,
   "id": "93d5076d-fb77-4e6b-9ae8-ae295e54a06c",
   "metadata": {},
   "outputs": [
    {
     "data": {
      "text/html": [
       "<div>\n",
       "<style scoped>\n",
       "    .dataframe tbody tr th:only-of-type {\n",
       "        vertical-align: middle;\n",
       "    }\n",
       "\n",
       "    .dataframe tbody tr th {\n",
       "        vertical-align: top;\n",
       "    }\n",
       "\n",
       "    .dataframe thead th {\n",
       "        text-align: right;\n",
       "    }\n",
       "</style>\n",
       "<table border=\"1\" class=\"dataframe\">\n",
       "  <thead>\n",
       "    <tr style=\"text-align: right;\">\n",
       "      <th></th>\n",
       "      <th>exp_group</th>\n",
       "      <th>user_id</th>\n",
       "      <th>likes</th>\n",
       "      <th>views</th>\n",
       "      <th>ctr</th>\n",
       "    </tr>\n",
       "  </thead>\n",
       "  <tbody>\n",
       "    <tr>\n",
       "      <th>0</th>\n",
       "      <td>1</td>\n",
       "      <td>109963</td>\n",
       "      <td>3</td>\n",
       "      <td>15</td>\n",
       "      <td>0.200000</td>\n",
       "    </tr>\n",
       "    <tr>\n",
       "      <th>1</th>\n",
       "      <td>1</td>\n",
       "      <td>26117</td>\n",
       "      <td>32</td>\n",
       "      <td>141</td>\n",
       "      <td>0.226950</td>\n",
       "    </tr>\n",
       "    <tr>\n",
       "      <th>2</th>\n",
       "      <td>1</td>\n",
       "      <td>138232</td>\n",
       "      <td>18</td>\n",
       "      <td>73</td>\n",
       "      <td>0.246575</td>\n",
       "    </tr>\n",
       "    <tr>\n",
       "      <th>3</th>\n",
       "      <td>1</td>\n",
       "      <td>26295</td>\n",
       "      <td>39</td>\n",
       "      <td>141</td>\n",
       "      <td>0.276596</td>\n",
       "    </tr>\n",
       "    <tr>\n",
       "      <th>4</th>\n",
       "      <td>1</td>\n",
       "      <td>18392</td>\n",
       "      <td>7</td>\n",
       "      <td>32</td>\n",
       "      <td>0.218750</td>\n",
       "    </tr>\n",
       "  </tbody>\n",
       "</table>\n",
       "</div>"
      ],
      "text/plain": [
       "   exp_group  user_id  likes  views       ctr\n",
       "0          1   109963      3     15  0.200000\n",
       "1          1    26117     32    141  0.226950\n",
       "2          1   138232     18     73  0.246575\n",
       "3          1    26295     39    141  0.276596\n",
       "4          1    18392      7     32  0.218750"
      ]
     },
     "execution_count": 151,
     "metadata": {},
     "output_type": "execute_result"
    }
   ],
   "source": [
    "df.head()"
   ]
  },
  {
   "cell_type": "code",
   "execution_count": 152,
   "id": "7300dc1c-44c8-4a83-89ec-12ec0b2883d2",
   "metadata": {},
   "outputs": [
    {
     "data": {
      "text/html": [
       "<div>\n",
       "<style scoped>\n",
       "    .dataframe tbody tr th:only-of-type {\n",
       "        vertical-align: middle;\n",
       "    }\n",
       "\n",
       "    .dataframe tbody tr th {\n",
       "        vertical-align: top;\n",
       "    }\n",
       "\n",
       "    .dataframe thead th {\n",
       "        text-align: right;\n",
       "    }\n",
       "</style>\n",
       "<table border=\"1\" class=\"dataframe\">\n",
       "  <thead>\n",
       "    <tr style=\"text-align: right;\">\n",
       "      <th></th>\n",
       "      <th>exp_group</th>\n",
       "      <th>user_id</th>\n",
       "      <th>likes</th>\n",
       "      <th>views</th>\n",
       "      <th>ctr</th>\n",
       "    </tr>\n",
       "  </thead>\n",
       "  <tbody>\n",
       "    <tr>\n",
       "      <th>0</th>\n",
       "      <td>1</td>\n",
       "      <td>10020</td>\n",
       "      <td>10020</td>\n",
       "      <td>10020</td>\n",
       "      <td>10020</td>\n",
       "    </tr>\n",
       "    <tr>\n",
       "      <th>1</th>\n",
       "      <td>2</td>\n",
       "      <td>9877</td>\n",
       "      <td>9877</td>\n",
       "      <td>9877</td>\n",
       "      <td>9877</td>\n",
       "    </tr>\n",
       "  </tbody>\n",
       "</table>\n",
       "</div>"
      ],
      "text/plain": [
       "   exp_group  user_id  likes  views    ctr\n",
       "0          1    10020  10020  10020  10020\n",
       "1          2     9877   9877   9877   9877"
      ]
     },
     "execution_count": 152,
     "metadata": {},
     "output_type": "execute_result"
    }
   ],
   "source": [
    "df.groupby('exp_group', as_index = False).count()"
   ]
  },
  {
   "cell_type": "markdown",
   "id": "90b99d9e-6349-432b-8dd3-4b7c0ea1b2bb",
   "metadata": {},
   "source": [
    "Размеры групп примерно одинаковы, около 10000. Посмотрим на распределение ctr двух групп на графике:"
   ]
  },
  {
   "cell_type": "code",
   "execution_count": 153,
   "id": "be9157e5-9e89-481b-8a64-3c4073125d0f",
   "metadata": {},
   "outputs": [
    {
     "data": {
      "image/png": "[encoded data removed]",
      "text/plain": [
       "<Figure size 842.4x595.44 with 1 Axes>"
      ]
     },
     "metadata": {},
     "output_type": "display_data"
    }
   ],
   "source": [
    "sns.set(rc={'figure.figsize':(11.7,8.27)})\n",
    "\n",
    "groups = sns.histplot(data = df, \n",
    "              x='ctr', \n",
    "              hue='exp_group', \n",
    "              palette = ['r', 'b'],\n",
    "              alpha=0.5,\n",
    "              kde=False)"
   ]
  },
  {
   "cell_type": "markdown",
   "id": "93d3e8d8-622f-4d36-80c8-b502caa7d01a",
   "metadata": {},
   "source": [
    "Видим, что распределение контрольной группы похоже на нормальное, распределение тестовой группы бимодальное."
   ]
  },
  {
   "cell_type": "markdown",
   "id": "83794063-f7ae-47e6-a1cf-daa1ad42e571",
   "metadata": {},
   "source": [
    "Среднее значение CTR контрольной группы:"
   ]
  },
  {
   "cell_type": "code",
   "execution_count": 154,
   "id": "33e205df-a87a-49ff-b69d-60249454d898",
   "metadata": {},
   "outputs": [
    {
     "data": {
      "text/plain": [
       "0.216773994120072"
      ]
     },
     "execution_count": 154,
     "metadata": {},
     "output_type": "execute_result"
    }
   ],
   "source": [
    "df[df.exp_group == 1].ctr.mean()"
   ]
  },
  {
   "cell_type": "markdown",
   "id": "d5f58595-f007-4322-bb90-fcc8cad26c16",
   "metadata": {},
   "source": [
    "Среднее значение CTR тестовой группы:"
   ]
  },
  {
   "cell_type": "code",
   "execution_count": 155,
   "id": "a706c622-7287-4e17-8fd2-e0e73d9615bb",
   "metadata": {},
   "outputs": [
    {
     "data": {
      "text/plain": [
       "0.2161016893237817"
      ]
     },
     "execution_count": 155,
     "metadata": {},
     "output_type": "execute_result"
    }
   ],
   "source": [
    "df[df.exp_group == 2].ctr.mean()"
   ]
  },
  {
   "cell_type": "markdown",
   "id": "0588973b-2a39-4018-90f0-4e0dca12720b",
   "metadata": {},
   "source": [
    "### Применим t-тест:"
   ]
  },
  {
   "cell_type": "markdown",
   "id": "829a9fa0-6a93-4bd9-97b2-598c36f23182",
   "metadata": {},
   "source": [
    "У нас достаточно большой размер выборок, поэтому мы можем использовать этот критерий (единственное, что у меня вызывает сомнения - бимодальность одного из распределений, то есть тест мы используем, но к результатам относимся с подозрением).\n",
    "##### Уровень значимости здесь и далее будем выбирать 0.05 "
   ]
  },
  {
   "cell_type": "markdown",
   "id": "d9558ca6-04b5-40c7-94b4-27bb079fa5a4",
   "metadata": {},
   "source": [
    "Нулевая гипотеза H0 : средние значений равны, значимых отклонений нет \\\n",
    "Альтернативная гипотеза H1 : средние значения не равны, есть значимые отклонения "
   ]
  },
  {
   "cell_type": "code",
   "execution_count": 156,
   "id": "1235eb99-b4ba-4434-bacc-ebf6b99beeeb",
   "metadata": {},
   "outputs": [
    {
     "data": {
      "text/plain": [
       "Ttest_indResult(statistic=0.4051491913112757, pvalue=0.685373331140751)"
      ]
     },
     "execution_count": 156,
     "metadata": {},
     "output_type": "execute_result"
    }
   ],
   "source": [
    "stats.ttest_ind(df[df.exp_group == 1].ctr,\n",
    "                df[df.exp_group == 2].ctr,\n",
    "                equal_var=False)"
   ]
  },
  {
   "cell_type": "markdown",
   "id": "db0802a3-e05d-4627-a4ac-2bb41500d642",
   "metadata": {},
   "source": [
    "p = 0.69 > 0.05. T-тест не показал значимых различий."
   ]
  },
  {
   "cell_type": "markdown",
   "id": "28bb1eae-190c-4650-8ea1-5d24ce57362c",
   "metadata": {},
   "source": [
    "### Применим критерий Манна-Уитни:"
   ]
  },
  {
   "cell_type": "markdown",
   "id": "8497715c-0965-4a18-964c-bd97de588915",
   "metadata": {},
   "source": [
    "Нулевая гипотеза H0: P(X>Y) = P(Y>X) \\\n",
    "Альтернативная гипотеза H1: P(X>Y) != P(Y>X)"
   ]
  },
  {
   "cell_type": "code",
   "execution_count": 157,
   "id": "9d3d3576-0b32-4752-85dc-7a6b18dc82f7",
   "metadata": {},
   "outputs": [
    {
     "data": {
      "text/plain": [
       "MannwhitneyuResult(statistic=55189913.0, pvalue=4.632205841806026e-45)"
      ]
     },
     "execution_count": 157,
     "metadata": {},
     "output_type": "execute_result"
    }
   ],
   "source": [
    "stats.mannwhitneyu(df[df.exp_group == 1].ctr,\n",
    "                df[df.exp_group == 2].ctr)"
   ]
  },
  {
   "cell_type": "code",
   "execution_count": 158,
   "id": "38bc8645-ff30-4f6a-ad7a-2599bb4aa984",
   "metadata": {},
   "outputs": [
    {
     "name": "stdout",
     "output_type": "stream",
     "text": [
      "В 55.48 % случаев A > B.\n"
     ]
    }
   ],
   "source": [
    "A_gt_B = 0\n",
    "for _ in range(10000):\n",
    "    A_gt_B+= df[df.exp_group == 1].ctr.sample().values[0] > df[df.exp_group == 2].ctr.sample().values[0]\n",
    "    \n",
    "print('В', A_gt_B/100, '% случаев A > B.')"
   ]
  },
  {
   "cell_type": "markdown",
   "id": "ac8fb929-08a2-4de9-baba-e97e2e540005",
   "metadata": {},
   "source": [
    "Можем сделать вывод, что были обнаружены статистически значимые различия, отклоняем нулевую гипотезу. Чаще всего значения одной из выборок (контрольной) оказываются больше значений другой выборки (тестовой)."
   ]
  },
  {
   "cell_type": "markdown",
   "id": "cd8045eb-db03-4f6f-b8dc-ce7673f779f8",
   "metadata": {},
   "source": [
    "### Используем сглаженный CTR:"
   ]
  },
  {
   "cell_type": "code",
   "execution_count": 159,
   "id": "4c8d77a4-cc24-439f-9136-54df4526c7cb",
   "metadata": {},
   "outputs": [],
   "source": [
    "def get_smothed_ctr(user_likes, user_views, global_ctr, alpha):\n",
    "    smothed_ctr = (user_likes + alpha * global_ctr) / (user_views + alpha)\n",
    "    return smothed_ctr\n",
    "\n",
    "global_ctr_1 = df[df.exp_group == 1].likes.sum()/df[df.exp_group == 1].views.sum()\n",
    "global_ctr_2 = df[df.exp_group == 2].likes.sum()/df[df.exp_group == 2].views.sum()\n",
    "\n",
    "group1['smothed_ctr'] = df.apply(\n",
    "    lambda x: get_smothed_ctr(x['likes'], x['views'], global_ctr_1, 5), axis=1)\n",
    "group2['smothed_ctr'] = df.apply(\n",
    "    lambda x: get_smothed_ctr(x['likes'], x['views'], global_ctr_2, 5), axis=1)"
   ]
  },
  {
   "cell_type": "markdown",
   "id": "1c13f4ea-45fa-49d4-800e-76cc1e7f7d26",
   "metadata": {},
   "source": [
    "Среднее значение сглаженного CTR контрольной группы:"
   ]
  },
  {
   "cell_type": "code",
   "execution_count": 160,
   "id": "036f62c6-b954-49a3-bfbb-6d27d923a9d2",
   "metadata": {},
   "outputs": [
    {
     "data": {
      "text/plain": [
       "0.21519217449299335"
      ]
     },
     "execution_count": 160,
     "metadata": {},
     "output_type": "execute_result"
    }
   ],
   "source": [
    "group1['smothed_ctr'].mean()"
   ]
  },
  {
   "cell_type": "markdown",
   "id": "2a37c701-7aef-4c0b-b02a-a43aab0da93f",
   "metadata": {},
   "source": [
    "Среднее значение сглаженного CTR тестовой группы:"
   ]
  },
  {
   "cell_type": "code",
   "execution_count": 161,
   "id": "7981b532-bebd-4996-abc3-86f09ccc3e4a",
   "metadata": {},
   "outputs": [
    {
     "data": {
      "text/plain": [
       "0.21259747775690932"
      ]
     },
     "execution_count": 161,
     "metadata": {},
     "output_type": "execute_result"
    }
   ],
   "source": [
    "group2['smothed_ctr'].mean()"
   ]
  },
  {
   "cell_type": "markdown",
   "id": "76cb45d1-3f38-4e78-a5f0-d10d760ffb47",
   "metadata": {},
   "source": [
    "Построим графики распределения CTR после сглаживания:"
   ]
  },
  {
   "cell_type": "code",
   "execution_count": 162,
   "id": "09632240-7d05-443a-a50b-5992c8ded14d",
   "metadata": {},
   "outputs": [
    {
     "name": "stderr",
     "output_type": "stream",
     "text": [
      "/opt/conda/lib/python3.8/site-packages/seaborn/distributions.py:2557: FutureWarning: `distplot` is a deprecated function and will be removed in a future version. Please adapt your code to use either `displot` (a figure-level function with similar flexibility) or `histplot` (an axes-level function for histograms).\n",
      "  warnings.warn(msg, FutureWarning)\n"
     ]
    },
    {
     "data": {
      "text/plain": [
       "<AxesSubplot:xlabel='smothed_ctr'>"
      ]
     },
     "execution_count": 162,
     "metadata": {},
     "output_type": "execute_result"
    },
    {
     "data": {
      "image/png": "[encoded data removed]",
      "text/plain": [
       "<Figure size 842.4x595.44 with 1 Axes>"
      ]
     },
     "metadata": {},
     "output_type": "display_data"
    }
   ],
   "source": [
    "sns.set(rc={'figure.figsize':(11.7,8.27)})\n",
    "sns.distplot(group1.smothed_ctr, bins = 30, kde = False)\n",
    "sns.distplot(group2.smothed_ctr, bins = 30, kde = False)"
   ]
  },
  {
   "cell_type": "markdown",
   "id": "7b35e81d-abf0-431a-98bc-95e45ab101bb",
   "metadata": {},
   "source": [
    "Также рассмотрим распределение 1 и 2 группы до и после сглаживания:"
   ]
  },
  {
   "cell_type": "code",
   "execution_count": 163,
   "id": "c67f31e6-f56b-43b8-8395-94189364dfcf",
   "metadata": {},
   "outputs": [
    {
     "data": {
      "text/plain": [
       "<AxesSubplot:xlabel='smothed_ctr'>"
      ]
     },
     "execution_count": 163,
     "metadata": {},
     "output_type": "execute_result"
    },
    {
     "data": {
      "image/png": "[encoded data removed]",
      "text/plain": [
       "<Figure size 842.4x595.44 with 1 Axes>"
      ]
     },
     "metadata": {},
     "output_type": "display_data"
    }
   ],
   "source": [
    "sns.distplot(df[df.exp_group == 1].ctr, bins = 30, kde = False)\n",
    "sns.distplot(group1.smothed_ctr, bins = 30, kde = False)"
   ]
  },
  {
   "cell_type": "code",
   "execution_count": 164,
   "id": "07e6e8b2-16f1-456b-ae57-6660bcca9d33",
   "metadata": {},
   "outputs": [
    {
     "data": {
      "text/plain": [
       "<AxesSubplot:xlabel='smothed_ctr'>"
      ]
     },
     "execution_count": 164,
     "metadata": {},
     "output_type": "execute_result"
    },
    {
     "data": {
      "image/png": "[encoded data removed]",
      "text/plain": [
       "<Figure size 842.4x595.44 with 1 Axes>"
      ]
     },
     "metadata": {},
     "output_type": "display_data"
    }
   ],
   "source": [
    "sns.distplot(df[df.exp_group == 2].ctr, bins = 30, kde = False)\n",
    "sns.distplot(group2.smothed_ctr, bins = 30, kde = False)"
   ]
  },
  {
   "cell_type": "markdown",
   "id": "8572275d-a17b-4aa6-a7da-a5a288651685",
   "metadata": {},
   "source": [
    "Ожидаемо, выбросов после сглаживания стало меньше. Но распределение первой группы все так же похоже на нормальное, а распределение второй - бимодальное."
   ]
  },
  {
   "cell_type": "markdown",
   "id": "491b6a8e-c294-4b2c-bd81-736ddabe91c6",
   "metadata": {},
   "source": [
    "### Проведем для сглаженного CTR t-тест и тест Манна-Уитни:"
   ]
  },
  {
   "cell_type": "code",
   "execution_count": 165,
   "id": "63ed8eb1-3193-4a3f-a2be-c3e8660ea2b1",
   "metadata": {},
   "outputs": [
    {
     "data": {
      "text/plain": [
       "Ttest_indResult(statistic=1.8218740616923907, pvalue=0.06849304751289614)"
      ]
     },
     "execution_count": 165,
     "metadata": {},
     "output_type": "execute_result"
    }
   ],
   "source": [
    "stats.ttest_ind(group1['smothed_ctr'],\n",
    "                group2['smothed_ctr'],\n",
    "                equal_var=False)"
   ]
  },
  {
   "cell_type": "markdown",
   "id": "f0106dc1-a298-416c-b5fb-3ceb2fe65c56",
   "metadata": {},
   "source": [
    "Для t-теста p = 0.052 > 0.05. Значение p стало ниже при сглаживании, но все еще недостаточно, чтобы отклонить нулевую гипотезу."
   ]
  },
  {
   "cell_type": "code",
   "execution_count": 166,
   "id": "cd096c76-ac4a-4c95-b594-397b074309c4",
   "metadata": {},
   "outputs": [
    {
     "data": {
      "text/plain": [
       "MannwhitneyuResult(statistic=55334061.0, pvalue=2.8295663785915355e-47)"
      ]
     },
     "execution_count": 166,
     "metadata": {},
     "output_type": "execute_result"
    }
   ],
   "source": [
    "stats.mannwhitneyu(group1['smothed_ctr'],\n",
    "                group2['smothed_ctr'],\n",
    "                alternative = 'two-sided')"
   ]
  },
  {
   "cell_type": "code",
   "execution_count": 167,
   "id": "2d52144f-3fb3-4e30-978f-391340e5e0e7",
   "metadata": {},
   "outputs": [
    {
     "name": "stdout",
     "output_type": "stream",
     "text": [
      "В 55.83 % случаев A > B.\n"
     ]
    }
   ],
   "source": [
    "A_gt_B = 0\n",
    "for _ in range(10000):\n",
    "    A_gt_B+= group1['smothed_ctr'].sample().values[0] > group2['smothed_ctr'].sample().values[0]\n",
    "    \n",
    "print('В', A_gt_B/100, '% случаев A > B.')"
   ]
  },
  {
   "cell_type": "markdown",
   "id": "a65a44e4-ab68-4f4b-87cf-928aa9a71567",
   "metadata": {},
   "source": [
    "При проведении теста Манна-Уитни были обнаружены статистически значимые различия, отклоняем нулевую гипотезу. Чаще всего значения одной из выборок (контрольной) оказываются больше значений другой выборки (тестовой)."
   ]
  },
  {
   "cell_type": "markdown",
   "id": "7fcea0e0-5643-41b9-965d-1cca34ee66cd",
   "metadata": {},
   "source": [
    "### Применим Пуассоновский бутстреп для сглаженного CTR:"
   ]
  },
  {
   "cell_type": "markdown",
   "id": "92cb534c-870f-4400-8ea2-59056df2f5bf",
   "metadata": {},
   "source": [
    "Сравним общегрупповой CTR в группах A и B. Нагенерируем из каждой из этих выборок 10000 псевдовыборок с возвращением."
   ]
  },
  {
   "cell_type": "code",
   "execution_count": 168,
   "id": "301d85a7-a432-429b-a1e4-33b0a91e6f18",
   "metadata": {},
   "outputs": [],
   "source": [
    "def bootstrap(likes1, views1, likes2, views2, n_bootstrap=10000):\n",
    "    poisson_bootstraps1 = stats.poisson(1).rvs(\n",
    "        (n_bootstrap, len(likes1))).astype(np.int64)\n",
    "    poisson_bootstraps2 = stats.poisson(1).rvs(\n",
    "            (n_bootstrap, len(likes2))).astype(np.int64)\n",
    "    \n",
    "    globalCTR1 = (poisson_bootstraps1*likes1).sum(axis=1)/(poisson_bootstraps1*views1).sum(axis=1)\n",
    "    globalCTR2 = (poisson_bootstraps2*likes2).sum(axis=1)/(poisson_bootstraps2*views2).sum(axis=1)\n",
    "\n",
    "    return globalCTR1, globalCTR2"
   ]
  },
  {
   "cell_type": "code",
   "execution_count": 169,
   "id": "0c078866-f145-422f-b9ae-4ce6eae672b8",
   "metadata": {},
   "outputs": [],
   "source": [
    "likes1 = df[df.exp_group == 1].likes.to_numpy()\n",
    "views1 = df[df.exp_group == 1].views.to_numpy()\n",
    "likes2 = df[df.exp_group == 2].likes.to_numpy()\n",
    "views2 = df[df.exp_group == 2].views.to_numpy()\n",
    "\n",
    "ctr1, ctr2 = bootstrap(likes1, views1, likes2, views2)"
   ]
  },
  {
   "cell_type": "code",
   "execution_count": 170,
   "id": "31a7eed0-3358-474e-8f94-41f02e198542",
   "metadata": {},
   "outputs": [
    {
     "data": {
      "text/plain": [
       "<AxesSubplot:ylabel='Count'>"
      ]
     },
     "execution_count": 170,
     "metadata": {},
     "output_type": "execute_result"
    },
    {
     "data": {
      "image/png": "[encoded data removed]",
      "text/plain": [
       "<Figure size 842.4x595.44 with 1 Axes>"
      ]
     },
     "metadata": {},
     "output_type": "display_data"
    }
   ],
   "source": [
    "sns.histplot(ctr1, bins = 20)\n",
    "sns.histplot(ctr2, bins = 40)"
   ]
  },
  {
   "cell_type": "markdown",
   "id": "ccb89ffa-4911-446a-a878-b05ea89fd4e6",
   "metadata": {},
   "source": [
    "На графике видим, что отличия в CTR есть."
   ]
  },
  {
   "cell_type": "code",
   "execution_count": 171,
   "id": "aae9872a-c5ab-405a-a6b6-d7dbc360b748",
   "metadata": {},
   "outputs": [
    {
     "data": {
      "text/plain": [
       "<AxesSubplot:ylabel='Count'>"
      ]
     },
     "execution_count": 171,
     "metadata": {},
     "output_type": "execute_result"
    },
    {
     "data": {
      "image/png": "[encoded data removed]",
      "text/plain": [
       "<Figure size 842.4x595.44 with 1 Axes>"
      ]
     },
     "metadata": {},
     "output_type": "display_data"
    }
   ],
   "source": [
    "sns.histplot(ctr1 - ctr2)"
   ]
  },
  {
   "cell_type": "markdown",
   "id": "4b6440a5-0091-4f4b-8929-a539eb6aa3b9",
   "metadata": {},
   "source": [
    "Найдя разницу между глобальными CTR, видим, что значения в контрольной группе больше, чем в тестовой. Следовательно группа 1 показала лучше значения по CTR, чем группа 2."
   ]
  },
  {
   "cell_type": "markdown",
   "id": "b9dcbdc3-aa94-4f2d-b281-e359f2661a77",
   "metadata": {},
   "source": [
    "### Проведем бакетного преобразования t-тест и тест Манна-Уитни:"
   ]
  },
  {
   "cell_type": "code",
   "execution_count": 172,
   "id": "ae5b3c6d-f85e-4bea-9e4e-0f30c6e9991e",
   "metadata": {},
   "outputs": [],
   "source": [
    "q = \"\"\"\n",
    "\n",
    "SELECT exp_group, bucket,\n",
    "    sum(likes)/sum(views) as bucket_ctr,\n",
    "    quantileExact(0.9)(ctr) as ctr9\n",
    "FROM (SELECT exp_group, \n",
    "        xxHash64(user_id)%50 as bucket,\n",
    "        user_id,\n",
    "        sum(action = 'like') as likes,\n",
    "        sum(action = 'view') as views,\n",
    "        likes/views as ctr\n",
    "    FROM {db}.feed_actions \n",
    "    WHERE toDate(time) between '2024-11-22' and '2024-11-28'\n",
    "        and exp_group in (1,2)\n",
    "    GROUP BY exp_group, bucket, user_id)\n",
    "GROUP BY exp_group, bucket\n",
    "\"\"\"\n",
    "\n",
    "df = pandahouse.read_clickhouse(q, connection=connection)"
   ]
  },
  {
   "cell_type": "markdown",
   "id": "17d717d4-a12c-438d-9f48-8187fd21349c",
   "metadata": {},
   "source": [
    "Построим график бакетного распределения CTR:"
   ]
  },
  {
   "cell_type": "code",
   "execution_count": 173,
   "id": "0a23beb0-7ec0-4aaf-84c9-2b944012be88",
   "metadata": {},
   "outputs": [
    {
     "data": {
      "image/png": "[encoded data removed]",
      "text/plain": [
       "<Figure size 842.4x595.44 with 1 Axes>"
      ]
     },
     "metadata": {},
     "output_type": "display_data"
    }
   ],
   "source": [
    "sns.set(rc={'figure.figsize':(11.7,8.27)})\n",
    "\n",
    "groups = sns.histplot(data = df, \n",
    "              x='bucket_ctr', \n",
    "              hue='exp_group', \n",
    "              palette = ['r', 'b'],\n",
    "              alpha=0.5,\n",
    "              kde=False)"
   ]
  },
  {
   "cell_type": "markdown",
   "id": "795543e8-0a77-402a-9569-af3cebde1d71",
   "metadata": {},
   "source": [
    "Распределение бакетного CTR более-менее похоже на нормальное. Применим t-тест:"
   ]
  },
  {
   "cell_type": "code",
   "execution_count": 174,
   "id": "c7ea5211-e9d1-4054-b564-fcea7c9498f9",
   "metadata": {},
   "outputs": [
    {
     "data": {
      "text/plain": [
       "Ttest_indResult(statistic=5.614819358149381, pvalue=4.592644937473873e-07)"
      ]
     },
     "execution_count": 174,
     "metadata": {},
     "output_type": "execute_result"
    }
   ],
   "source": [
    "stats.ttest_ind(df[df.exp_group == 1].bucket_ctr, \n",
    "                   df[df.exp_group == 2].bucket_ctr, \n",
    "                   equal_var = False)"
   ]
  },
  {
   "cell_type": "markdown",
   "id": "9093e3b7-9527-4a3b-9988-dcf1ce0d9271",
   "metadata": {},
   "source": [
    "p << 0.05, t-тест показал статистически значимые различия. Применим тест Манна-Уитни:"
   ]
  },
  {
   "cell_type": "code",
   "execution_count": 175,
   "id": "2dc0e127-c9dc-4e3f-93cf-6f6ef897e092",
   "metadata": {},
   "outputs": [
    {
     "data": {
      "text/plain": [
       "MannwhitneyuResult(statistic=1997.0, pvalue=2.6576427804010095e-07)"
      ]
     },
     "execution_count": 175,
     "metadata": {},
     "output_type": "execute_result"
    }
   ],
   "source": [
    "stats.mannwhitneyu(df[df.exp_group == 1].bucket_ctr, \n",
    "                   df[df.exp_group == 2].bucket_ctr, \n",
    "                   alternative = 'two-sided')"
   ]
  },
  {
   "cell_type": "markdown",
   "id": "55bb59dd-2790-4829-9b51-9d54cee63fbc",
   "metadata": {},
   "source": [
    "Были обнаружены статистически значимые различия, отклоняем нулевую гипотезу"
   ]
  },
  {
   "cell_type": "code",
   "execution_count": 176,
   "id": "fae8244d-e742-40c4-8819-940d37688585",
   "metadata": {},
   "outputs": [
    {
     "name": "stdout",
     "output_type": "stream",
     "text": [
      "В 100.0 % случаев A > B.\n"
     ]
    }
   ],
   "source": [
    "A_gt_B = 0\n",
    "for _ in range(10000):\n",
    "    A_gt_B+= df[df.exp_group == 1].bucket_ctr.sample().values[0] > df[df.exp_group == 2].bucket_ctr.values[0]\n",
    "    \n",
    "print('В', A_gt_B/100, '% случаев A > B.')"
   ]
  },
  {
   "cell_type": "markdown",
   "id": "463ed115-8481-4255-bda0-6c7d5d33e35a",
   "metadata": {},
   "source": [
    "## Выводы:"
   ]
  },
  {
   "cell_type": "markdown",
   "id": "fc93bab2-53ce-46b2-8f49-b208462bfc85",
   "metadata": {},
   "source": [
    "В контрольной группе значения распределены нормально или почти нормально. В тестовой же группе бимодально, что может говорить о том, что на некоторых пользователях новый алгоритм работает хорошо, в то время как у других не вызывает интереса. Есть смысл разобраться, чем отличаются две эти группы пользователей, возможно, изменения стоит вносить только для тех, на ком эти изменения показывают хорошие результаты. \\\n",
    "Мы применили к нашим данным t-тест и тест Манна-Уитни. T-тест не показал значимых изменений, в то время как тест Манна-Уитни показал, что данные различаются и чаще значения контрольной группы оказываются выше значений тестовой. \\\n",
    "Для сглаженного CTR результаты тестов оказалсись похожими. Мы также применили Пуассоновский бутстреп, который показал, что значения контрольной группы больше значений тестовой. \\\n",
    "Для бакетного преобразования и t-тест, и тест Манна-Уитни показали значимые различия. \\\n",
    "T-тест может работать хуже для распределения тестовой группы, так как в нем сравниваются именно средние значения (в случае группы 2, мне кажется, лучше использовать медиану) и сам тест хуже, чем тест Манна-Уитни, справляется с данными, распределенными неравномерно. \\\n",
    "Я думаю, не стоит раскатывать новый алгоритм на всех новых пользователей. Все проведенные тесты показывали либо отсутствие значимых изменений, либо ухудшение метрик. Возможно стоит доработать алгоритм и запустить его более персонализировано."
   ]
  }
 ],
 "metadata": {
  "kernelspec": {
   "display_name": "Python 3 (ipykernel)",
   "language": "python",
   "name": "python3"
  },
  "language_info": {
   "codemirror_mode": {
    "name": "ipython",
    "version": 3
   },
   "file_extension": ".py",
   "mimetype": "text/x-python",
   "name": "python",
   "nbconvert_exporter": "python",
   "pygments_lexer": "ipython3",
   "version": "3.8.10"
  }
 },
 "nbformat": 4,
 "nbformat_minor": 5
}
